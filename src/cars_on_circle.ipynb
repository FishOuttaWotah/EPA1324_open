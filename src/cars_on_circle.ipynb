{
 "cells": [
  {
   "cell_type": "code",
   "execution_count": 1,
   "metadata": {},
   "outputs": [],
   "source": [
    "from mesa import Agent, Model\n",
    "from mesa.time import RandomActivation\n",
    "from mesa.space import ContinuousSpace"
   ]
  },
  {
   "cell_type": "code",
   "execution_count": 256,
   "metadata": {},
   "outputs": [],
   "source": [
    "def calculate_distance(pos1, pos2):\n",
    "    # calculate distance from pos1 to pos2 along\n",
    "    # circle\n",
    "    return (pos2-pos1) % math.tau\n",
    "\n",
    "class Car(Agent):\n",
    "    \n",
    "    @property\n",
    "    def x(self):\n",
    "        return math.cos(self.pos)\n",
    "    \n",
    "    @property\n",
    "    def y(self):\n",
    "        return math.sin(self.pos)\n",
    "    \n",
    "#     @property\n",
    "#     def lookahead(self):\n",
    "#         return 2*self.speed\n",
    "    \n",
    "    def __init__(self, unique_id, model, speed, acceleration, \n",
    "                 deceleration, pos):\n",
    "        super().__init__(unique_id, model)\n",
    "        self.speed = speed\n",
    "        self.max_speed = speed\n",
    "        self.acceleration = acceleration\n",
    "        self.deceleration = deceleration\n",
    "        self.lookahead = 2 * self.speed\n",
    "        \n",
    "        self.pos = pos\n",
    "        self.pred = None\n",
    "\n",
    "    def step(self):\n",
    "        if calculate_distance(self.pos, self.pred.pos) < self.lookahead:\n",
    "            speed = 0.9*self.pred.speed\n",
    "        else:\n",
    "            # speed up to max\n",
    "            speed = min(self.max_speed, self.speed+self.acceleration)\n",
    "        \n",
    "        self.speed = speed\n",
    "        \n",
    "        self.pos += self.speed\n",
    "\n",
    "class TrafficJamModel(Model):\n",
    "        # have to change speed into angular speed\n",
    "        # have to change accelration into angular acceleration\n",
    "    \n",
    "    def __init__(self, average_speed=0.1, n_agents=10,\n",
    "                 acceleration=0.02, deceleration=0.02, seed=None):\n",
    "        super().__init__(seed)\n",
    "        self.schedule = RandomActivation(self)\n",
    "        \n",
    "        initial_positions = np.linspace(0, math.tau, n_agents+1)[0:-1]\n",
    "        \n",
    "        for i, pos in enumerate(initial_positions):\n",
    "            initial_speed = self.random.gauss(average_speed, 0.02)\n",
    "            \n",
    "            agent = Car(i, self, initial_speed, acceleration, deceleration, \n",
    "                        pos)\n",
    "            self.schedule.add(agent)\n",
    "            \n",
    "        for i, agent in enumerate(self.schedule.agents):\n",
    "            try:\n",
    "                agent.pred = self.schedule.agents[i+1]\n",
    "            except IndexError:\n",
    "                agent.pred = self.schedule.agents[0]\n",
    "        \n",
    "        \n",
    "    def step(self):\n",
    "        self.schedule.step()"
   ]
  },
  {
   "cell_type": "code",
   "execution_count": 277,
   "metadata": {},
   "outputs": [],
   "source": [
    "model = TrafficJamModel(n_agents=37)\n",
    "agents = model.schedule.agents\n",
    "\n"
   ]
  },
  {
   "cell_type": "code",
   "execution_count": 278,
   "metadata": {},
   "outputs": [
    {
     "data": {
      "image/png": "[encoded data removed]",
      "text/plain": [
       "<Figure size 864x576 with 1 Axes>"
      ]
     },
     "metadata": {},
     "output_type": "display_data"
    }
   ],
   "source": [
    "from matplotlib.animation import FuncAnimation\n",
    "from matplotlib import animation\n",
    "from matplotlib import animation, rc, collections\n",
    "from IPython.display import HTML\n",
    "\n",
    "pos = np.asarray([[agent.x, agent.y] for agent in agents])\n",
    "\n",
    "sns.set_style('white')\n",
    "\n",
    "fig, ax = plt.subplots()\n",
    "positions = ax.scatter(pos[0, :], pos[1, :])\n",
    "ax.set_aspect('equal')\n",
    "ax.set_xlim(xmin=-2, xmax=2)\n",
    "ax.set_ylim(ymin=-2, ymax=2)\n",
    "ax.set_xticks([])\n",
    "ax.set_yticks([])\n",
    "\n",
    "def update(frame):\n",
    "    model.step()\n",
    "    \n",
    "    pos = np.asarray([[agent.x, agent.y] for agent in agents])\n",
    "    \n",
    "    positions.set_offsets(pos)\n",
    "    return positions\n",
    "\n",
    "anim = FuncAnimation(fig, update, frames=1000);\n",
    "writervideo = animation.FFMpegWriter(fps=24) \n",
    "anim.save(\"cars.mp4\", writer=writervideo)"
   ]
  },
  {
   "cell_type": "code",
   "execution_count": 279,
   "metadata": {},
   "outputs": [
    {
     "data": {
      "text/html": [
       "<video src=\"cars.mp4\" controls  width=\"600\" >\n",
       "      Your browser does not support the <code>video</code> element.\n",
       "    </video>"
      ],
      "text/plain": [
       "<IPython.core.display.Video object>"
      ]
     },
     "execution_count": 279,
     "metadata": {},
     "output_type": "execute_result"
    }
   ],
   "source": [
    "from IPython.display import Video\n",
    "\n",
    "Video(\"cars.mp4\", width=600)"
   ]
  },
  {
   "cell_type": "code",
   "execution_count": null,
   "metadata": {},
   "outputs": [],
   "source": []
  }
 ],
 "metadata": {
  "kernelspec": {
   "display_name": "Python 3",
   "language": "python",
   "name": "python3"
  },
  "language_info": {
   "codemirror_mode": {
    "name": "ipython",
    "version": 3
   },
   "file_extension": ".py",
   "mimetype": "text/x-python",
   "name": "python",
   "nbconvert_exporter": "python",
   "pygments_lexer": "ipython3",
   "version": "3.8.5"
  }
 },
 "nbformat": 4,
 "nbformat_minor": 4
}
